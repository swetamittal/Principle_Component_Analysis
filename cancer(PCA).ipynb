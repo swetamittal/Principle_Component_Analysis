{
 "cells": [
  {
   "cell_type": "code",
   "execution_count": 1,
   "metadata": {},
   "outputs": [],
   "source": [
    "from sklearn import datasets,decomposition\n",
    "import numpy as np\n",
    "import pandas as pd\n",
    "from sklearn.model_selection import train_test_split"
   ]
  },
  {
   "cell_type": "code",
   "execution_count": 2,
   "metadata": {},
   "outputs": [],
   "source": [
    "from sklearn.preprocessing import StandardScaler\n",
    "import time"
   ]
  },
  {
   "cell_type": "code",
   "execution_count": 3,
   "metadata": {},
   "outputs": [],
   "source": [
    "cancer=datasets.load_breast_cancer()\n",
    "x=cancer.data\n",
    "y=cancer.target"
   ]
  },
  {
   "cell_type": "code",
   "execution_count": 4,
   "metadata": {},
   "outputs": [],
   "source": [
    "x_train,x_test,y_train,y_test=train_test_split(x,y,random_state=1)"
   ]
  },
  {
   "cell_type": "code",
   "execution_count": 5,
   "metadata": {},
   "outputs": [],
   "source": [
    "from sklearn.linear_model import LogisticRegression"
   ]
  },
  {
   "cell_type": "code",
   "execution_count": 6,
   "metadata": {},
   "outputs": [],
   "source": [
    "clf=StandardScaler()\n",
    "x_tr=clf.fit_transform(x_train)"
   ]
  },
  {
   "cell_type": "code",
   "execution_count": 24,
   "metadata": {},
   "outputs": [
    {
     "data": {
      "text/plain": [
       "array([[ 5.36058527e+01,  3.84939611e+01, -2.62230926e+01, ...,\n",
       "         2.05606869e-03,  2.13283740e-03,  9.86991184e-04],\n",
       "       [-5.26509521e+01,  6.73126683e+01, -1.62637418e+01, ...,\n",
       "        -1.54252252e-03,  2.72532390e-04, -2.90463807e-05],\n",
       "       [ 2.28486968e+02, -1.03713479e+02, -6.78149902e+00, ...,\n",
       "         1.29270555e-04,  9.69040628e-04, -4.45471395e-04],\n",
       "       ...,\n",
       "       [ 8.21641410e+02, -1.72344328e+02, -1.52521278e+01, ...,\n",
       "        -3.22198093e-03, -1.18010024e-05, -1.75872520e-04],\n",
       "       [-1.77137579e+02,  4.36091446e+01, -1.06452262e+01, ...,\n",
       "        -5.80634967e-04,  6.96759502e-05,  1.75768025e-04],\n",
       "       [-3.64330324e+02,  6.23898714e+01, -7.36688441e+00, ...,\n",
       "         2.22991589e-03, -2.82932974e-03, -9.59343861e-05]])"
      ]
     },
     "execution_count": 24,
     "metadata": {},
     "output_type": "execute_result"
    }
   ],
   "source": [
    "pca=decomposition.PCA()\n",
    "pca.fit_transform(x_train)"
   ]
  },
  {
   "cell_type": "code",
   "execution_count": 25,
   "metadata": {},
   "outputs": [
    {
     "data": {
      "text/plain": [
       "array([4.77882629e+05, 8.01708338e+03, 8.16941677e+02, 5.43267687e+01,\n",
       "       3.48074449e+01, 3.09889668e+00, 1.84115636e+00, 4.02787335e-01,\n",
       "       1.65629550e-01, 8.52772203e-02, 2.91360416e-02, 6.21354145e-03,\n",
       "       2.91172468e-03, 2.09791026e-03, 1.41733590e-03, 6.02917573e-04,\n",
       "       3.69257724e-04, 2.34336145e-04, 1.79981738e-04, 1.63219257e-04,\n",
       "       8.13450827e-05, 5.75365574e-05, 3.68194230e-05, 2.55972415e-05,\n",
       "       1.62716490e-05, 1.07427200e-05, 3.64492692e-06, 2.85518574e-06,\n",
       "       2.25960801e-06, 7.33703750e-07])"
      ]
     },
     "execution_count": 25,
     "metadata": {},
     "output_type": "execute_result"
    }
   ],
   "source": [
    "pca.explained_variance_"
   ]
  },
  {
   "cell_type": "code",
   "execution_count": 26,
   "metadata": {},
   "outputs": [],
   "source": [
    "k=0\n",
    "cur_v=0\n",
    "total=sum(pca.explained_variance_)\n",
    "while (cur_v/total)<0.99:\n",
    "    cur_v+=pca.explained_variance_[k]\n",
    "    k+=1"
   ]
  },
  {
   "cell_type": "code",
   "execution_count": 28,
   "metadata": {},
   "outputs": [
    {
     "data": {
      "text/plain": [
       "2"
      ]
     },
     "execution_count": 28,
     "metadata": {},
     "output_type": "execute_result"
    }
   ],
   "source": [
    "k"
   ]
  },
  {
   "cell_type": "code",
   "execution_count": 7,
   "metadata": {},
   "outputs": [],
   "source": [
    "x_te=clf.transform(x_test)"
   ]
  },
  {
   "cell_type": "code",
   "execution_count": 8,
   "metadata": {},
   "outputs": [
    {
     "data": {
      "text/plain": [
       "(143, 15)"
      ]
     },
     "execution_count": 8,
     "metadata": {},
     "output_type": "execute_result"
    }
   ],
   "source": [
    "pca1=decomposition.PCA(n_components=15)\n",
    "x_new_train=pca1.fit_transform(x_train)\n",
    "x_new_test=pca1.transform(x_test)\n",
    "x_new_test.shape"
   ]
  },
  {
   "cell_type": "code",
   "execution_count": 9,
   "metadata": {},
   "outputs": [
    {
     "name": "stdout",
     "output_type": "stream",
     "text": [
      "0.11944246292114258\n"
     ]
    },
    {
     "name": "stderr",
     "output_type": "stream",
     "text": [
      "C:\\Users\\sahil computer\\Anaconda3\\lib\\site-packages\\sklearn\\linear_model\\logistic.py:433: FutureWarning: Default solver will be changed to 'lbfgs' in 0.22. Specify a solver to silence this warning.\n",
      "  FutureWarning)\n"
     ]
    },
    {
     "data": {
      "text/plain": [
       "0.951048951048951"
      ]
     },
     "execution_count": 9,
     "metadata": {},
     "output_type": "execute_result"
    }
   ],
   "source": [
    "clf1=LogisticRegression()\n",
    "start=time.time()\n",
    "clf1.fit(x_train,y_train)\n",
    "end=time.time()\n",
    "print(end-start)\n",
    "clf1.score(x_test,y_test)\n"
   ]
  },
  {
   "cell_type": "code",
   "execution_count": 10,
   "metadata": {},
   "outputs": [
    {
     "name": "stdout",
     "output_type": "stream",
     "text": [
      "0.0058460235595703125\n"
     ]
    },
    {
     "name": "stderr",
     "output_type": "stream",
     "text": [
      "C:\\Users\\sahil computer\\Anaconda3\\lib\\site-packages\\sklearn\\linear_model\\logistic.py:433: FutureWarning: Default solver will be changed to 'lbfgs' in 0.22. Specify a solver to silence this warning.\n",
      "  FutureWarning)\n"
     ]
    },
    {
     "data": {
      "text/plain": [
       "0.9370629370629371"
      ]
     },
     "execution_count": 10,
     "metadata": {},
     "output_type": "execute_result"
    }
   ],
   "source": [
    "clf2=LogisticRegression()\n",
    "start=time.time()\n",
    "clf2.fit(x_new_train,y_train)\n",
    "end=time.time()\n",
    "print(end-start)\n",
    "clf2.score(x_new_test,y_test)\n"
   ]
  }
 ],
 "metadata": {
  "kernelspec": {
   "display_name": "Python 3",
   "language": "python",
   "name": "python3"
  },
  "language_info": {
   "codemirror_mode": {
    "name": "ipython",
    "version": 3
   },
   "file_extension": ".py",
   "mimetype": "text/x-python",
   "name": "python",
   "nbconvert_exporter": "python",
   "pygments_lexer": "ipython3",
   "version": "3.7.1"
  }
 },
 "nbformat": 4,
 "nbformat_minor": 2
}
